{
 "metadata": {
  "name": "",
  "signature": "sha256:058c17a7d08128c285967e23095f4197d2754cb1b608a279c6cea1e4f2f0b672"
 },
 "nbformat": 3,
 "nbformat_minor": 0,
 "worksheets": [
  {
   "cells": [
    {
     "cell_type": "code",
     "collapsed": false,
     "input": [
      "# import packages\n",
      "import numpy as np\n",
      "import pandas as pd\n",
      "import tensorflow as tf\n",
      "from tensorflow.python.ops import rnn, rnn_cell\n",
      "\n",
      "import matplotlib.pyplot as plt\n",
      "import matplotlib.cm as cm\n",
      "%matplotlib inline\n",
      "\n",
      "from subprocess import check_output"
     ],
     "language": "python",
     "metadata": {},
     "outputs": [],
     "prompt_number": 1
    },
    {
     "cell_type": "code",
     "collapsed": false,
     "input": [
      "\n",
      "'''\n",
      "To classify images using a bidirectional recurrent neural network, we consider\n",
      "every image row as a sequence of pixels. Because MNIST image shape is 28*28px,\n",
      "we will then handle 28 sequences of 28 steps for every sample.\n",
      "'''\n",
      "\n",
      "# Parameters\n",
      "learning_rate = 0.001\n",
      "training_iters = 100000\n",
      "batch_size = 128\n",
      "display_step = 10\n",
      "\n",
      "# Network Parameters\n",
      "n_input = 28 # MNIST data input (img shape: 28*28)\n",
      "n_steps = 28 # timesteps\n",
      "n_hidden = 128 # hidden layer num of features\n",
      "n_classes = 10 # MNIST total classes (0-9 digits)\n",
      "image_to_display = 20\n",
      "validation_size = 128"
     ],
     "language": "python",
     "metadata": {},
     "outputs": [],
     "prompt_number": 21
    },
    {
     "cell_type": "code",
     "collapsed": false,
     "input": [
      "# Import MNIST data\n",
      "dataset = pd.read_csv(\"../input/train.csv\")\n",
      "test = pd.read_csv(\"../input/test.csv\")"
     ],
     "language": "python",
     "metadata": {},
     "outputs": [],
     "prompt_number": 6
    },
    {
     "cell_type": "code",
     "collapsed": false,
     "input": [
      "print('dataset({0[0]},{0[1]})'.format(dataset.shape))\n",
      "print('test({0[0]},{0[1]})'.format(test.shape))\n",
      "print (dataset.head())\n",
      "print (test.head())"
     ],
     "language": "python",
     "metadata": {},
     "outputs": [
      {
       "output_type": "stream",
       "stream": "stdout",
       "text": [
        "dataset(42000,785)\n",
        "test(28000,784)\n",
        "   label  pixel0  pixel1  pixel2  pixel3  pixel4  pixel5  pixel6  pixel7  \\\n",
        "0      1       0       0       0       0       0       0       0       0   \n",
        "1      0       0       0       0       0       0       0       0       0   \n",
        "2      1       0       0       0       0       0       0       0       0   \n",
        "3      4       0       0       0       0       0       0       0       0   \n",
        "4      0       0       0       0       0       0       0       0       0   \n",
        "\n",
        "   pixel8  pixel9  pixel10  pixel11  pixel12  pixel13  pixel14  pixel15  \\\n",
        "0       0       0        0        0        0        0        0        0   \n",
        "1       0       0        0        0        0        0        0        0   \n",
        "2       0       0        0        0        0        0        0        0   \n",
        "3       0       0        0        0        0        0        0        0   \n",
        "4       0       0        0        0        0        0        0        0   \n",
        "\n",
        "   pixel16  pixel17  pixel18      \n",
        "0        0        0        0 ...  \n",
        "1        0        0        0 ...  \n",
        "2        0        0        0 ...  \n",
        "3        0        0        0 ...  \n",
        "4        0        0        0 ...  \n",
        "\n",
        "[5 rows x 785 columns]\n",
        "   pixel0  pixel1  pixel2  pixel3  pixel4  pixel5  pixel6  pixel7  pixel8  \\\n",
        "0       0       0       0       0       0       0       0       0       0   \n",
        "1       0       0       0       0       0       0       0       0       0   \n",
        "2       0       0       0       0       0       0       0       0       0   \n",
        "3       0       0       0       0       0       0       0       0       0   \n",
        "4       0       0       0       0       0       0       0       0       0   \n",
        "\n",
        "   pixel9  pixel10  pixel11  pixel12  pixel13  pixel14  pixel15  pixel16  \\\n",
        "0       0        0        0        0        0        0        0        0   \n",
        "1       0        0        0        0        0        0        0        0   \n",
        "2       0        0        0        0        0        0        0        0   \n",
        "3       0        0        0        0        0        0        0        0   \n",
        "4       0        0        0        0        0        0        0        0   \n",
        "\n",
        "   pixel17  pixel18  pixel19      \n",
        "0        0        0        0 ...  \n",
        "1        0        0        0 ...  \n",
        "2        0        0        0 ...  \n",
        "3        0        0        0 ...  \n",
        "4        0        0        0 ...  \n",
        "\n",
        "[5 rows x 784 columns]\n"
       ]
      }
     ],
     "prompt_number": 7
    },
    {
     "cell_type": "code",
     "collapsed": false,
     "input": [
      "labels = dataset.iloc[:,0]\n",
      "images = dataset.iloc[:,1:].values\n",
      "images = images.astype(np.float)\n",
      "\n",
      "# convert from [0:255] => [0.0:1.0]\n",
      "images = np.multiply(images, 1.0 / 255.0)\n",
      "\n",
      "print('images({0[0]},{0[1]})'.format(images.shape))"
     ],
     "language": "python",
     "metadata": {},
     "outputs": [
      {
       "output_type": "stream",
       "stream": "stdout",
       "text": [
        "images(42000,784)\n"
       ]
      }
     ],
     "prompt_number": 8
    },
    {
     "cell_type": "code",
     "collapsed": false,
     "input": [
      "def display(img):\n",
      "    one_image = img.reshape(28, 28)\n",
      "    plt.axis('off')\n",
      "    plt.imshow(one_image, cmap=cm.binary)\n",
      "display(images[image_to_display])"
     ],
     "language": "python",
     "metadata": {},
     "outputs": [
      {
       "metadata": {},
       "output_type": "display_data",
       "png": "[encoded data removed]",
       "text": [
        "<matplotlib.figure.Figure at 0x126f79dd0>"
       ]
      }
     ],
     "prompt_number": 10
    },
    {
     "cell_type": "code",
     "collapsed": false,
     "input": [
      "labels[image_to_display]"
     ],
     "language": "python",
     "metadata": {},
     "outputs": [
      {
       "metadata": {},
       "output_type": "pyout",
       "prompt_number": 14,
       "text": [
        "8"
       ]
      }
     ],
     "prompt_number": 14
    },
    {
     "cell_type": "code",
     "collapsed": false,
     "input": [
      "# print information about image size, label of image-to-display and number of labels\n",
      "labels_flat = dataset[[0]].values.ravel()\n",
      "print('length of one image ({0})'.format(len(labels_flat)))\n",
      "print ('label of image [{0}] => {1}'.format(image_to_display, labels_flat[image_to_display]))\n",
      "\n",
      "labels_count = np.unique(labels_flat).shape[0]\n",
      "print('number of labels => {0}'.format(labels_count))"
     ],
     "language": "python",
     "metadata": {},
     "outputs": [
      {
       "output_type": "stream",
       "stream": "stdout",
       "text": [
        "length of one image (42000)\n",
        "label of image [20] => 8\n",
        "number of labes => 10\n"
       ]
      }
     ],
     "prompt_number": 16
    },
    {
     "cell_type": "code",
     "collapsed": false,
     "input": [
      "# convert class labels from scalars to one-hot vectors\n",
      "# 0 => [1 0 0 0 0 0 0 0 0 0]\n",
      "# 1 => [0 1 0 0 0 0 0 0 0 0]\n",
      "# ...\n",
      "# 9 => [0 0 0 0 0 0 0 0 0 1]\n",
      "\n",
      "def dense_to_one_hot(labels_dense, num_classes):\n",
      "    num_labels = labels_dense.shape[0]\n",
      "    print num_labels\n",
      "    index_offset = np.arange(num_labels) * num_classes\n",
      "    print index_offset\n",
      "    labels_one_hot = np.zeros((num_labels, num_classes))\n",
      "    print labels_one_hot\n",
      "    labels_one_hot.flat[index_offset + labels_dense.ravel()] = 1\n",
      "    return labels_one_hot\n",
      "\n",
      "labels = dense_to_one_hot(labels_flat, labels_count)\n",
      "labels = labels.astype(np.uint8)\n",
      "\n",
      "print('labels({0[0]},{0[1]})'.format(labels.shape))\n",
      "print ('labels vector for image [{0}] => {1}'.format(image_to_display,labels[image_to_display]))"
     ],
     "language": "python",
     "metadata": {},
     "outputs": [
      {
       "output_type": "stream",
       "stream": "stdout",
       "text": [
        "42000\n",
        "[     0     10     20 ..., 419970 419980 419990]\n",
        "[[ 0.  0.  0. ...,  0.  0.  0.]\n",
        " [ 0.  0.  0. ...,  0.  0.  0.]\n",
        " [ 0.  0.  0. ...,  0.  0.  0.]\n",
        " ..., \n",
        " [ 0.  0.  0. ...,  0.  0.  0.]\n",
        " [ 0.  0.  0. ...,  0.  0.  0.]\n",
        " [ 0.  0.  0. ...,  0.  0.  0.]]\n",
        "labels(42000,10)\n",
        "labels vector for image [20] => [0 0 0 0 0 0 0 0 1 0]\n"
       ]
      }
     ],
     "prompt_number": 18
    },
    {
     "cell_type": "code",
     "collapsed": false,
     "input": [
      "# split data into training & validation sets\n",
      "validation_images = images[:validation_size]\n",
      "validation_labels = labels[:validation_size]\n",
      "\n",
      "train_images = images[validation_size:]\n",
      "train_labels = labels[validation_size:]\n",
      "train_labels_flat = labels_flat[validation_size:]\n",
      "\n",
      "\n",
      "print('train data size({0[0]},{0[1]})'.format(train_images.shape))\n",
      "print('validation data size({0[0]},{0[1]})'.format(validation_images.shape))"
     ],
     "language": "python",
     "metadata": {},
     "outputs": [
      {
       "output_type": "stream",
       "stream": "stdout",
       "text": [
        "train data size(41872,784)\n",
        "validation data size(128,784)\n"
       ]
      }
     ],
     "prompt_number": 22
    },
    {
     "cell_type": "code",
     "collapsed": false,
     "input": [
      "# tf Graph input\n",
      "x = tf.placeholder(\"float\", [None, n_steps, n_input])\n",
      "y = tf.placeholder(\"float\", [None, n_classes])\n",
      "\n",
      "# Define weights\n",
      "weights = {\n",
      "    # Hidden layer weights => 2*n_hidden because of forward + backward cells\n",
      "    'out': tf.Variable(tf.random_normal([2*n_hidden, n_classes]))\n",
      "}\n",
      "biases = {\n",
      "    'out': tf.Variable(tf.random_normal([n_classes]))\n",
      "}"
     ],
     "language": "python",
     "metadata": {},
     "outputs": [],
     "prompt_number": 11
    },
    {
     "cell_type": "code",
     "collapsed": false,
     "input": [
      "def BiRNN(x, weights, biases):\n",
      "\n",
      "    # Prepare data shape to match `bidirectional_rnn` function requirements\n",
      "    # Current data input shape: (batch_size, n_steps, n_input)\n",
      "    # Required shape: 'n_steps' tensors list of shape (batch_size, n_input)\n",
      "\n",
      "    # Permuting batch_size and n_steps\n",
      "    x = tf.transpose(x, [1, 0, 2])\n",
      "    # Reshape to (n_steps*batch_size, n_input)\n",
      "    x = tf.reshape(x, [-1, n_input])\n",
      "    # Split to get a list of 'n_steps' tensors of shape (batch_size, n_input)\n",
      "    x = tf.split(0, n_steps, x)\n",
      "\n",
      "    # Define lstm cells with tensorflow\n",
      "    # Forward direction cell\n",
      "    lstm_fw_cell = rnn_cell.BasicLSTMCell(n_hidden, forget_bias=1.0)\n",
      "    # Backward direction cell\n",
      "    lstm_bw_cell = rnn_cell.BasicLSTMCell(n_hidden, forget_bias=1.0)\n",
      "\n",
      "    # Get lstm cell output\n",
      "    try:\n",
      "        outputs, _, _ = rnn.bidirectional_rnn(lstm_fw_cell, lstm_bw_cell, x,\n",
      "                                              dtype=tf.float32)\n",
      "    except Exception: # Old TensorFlow version only returns outputs not states\n",
      "        outputs = rnn.bidirectional_rnn(lstm_fw_cell, lstm_bw_cell, x,\n",
      "                                        dtype=tf.float32)\n",
      "\n",
      "    # Linear activation, using rnn inner loop last output\n",
      "    return tf.matmul(outputs[-1], weights['out']) + biases['out']\n"
     ],
     "language": "python",
     "metadata": {},
     "outputs": [],
     "prompt_number": 12
    },
    {
     "cell_type": "code",
     "collapsed": false,
     "input": [
      "pred = BiRNN(x, weights, biases)\n",
      "\n",
      "# Define loss and optimizer\n",
      "cost = tf.reduce_mean(tf.nn.softmax_cross_entropy_with_logits(pred, y))\n",
      "optimizer = tf.train.AdamOptimizer(learning_rate=learning_rate).minimize(cost)\n",
      "\n",
      "# Evaluate model\n",
      "correct_pred = tf.equal(tf.argmax(pred,1), tf.argmax(y,1))\n",
      "accuracy = tf.reduce_mean(tf.cast(correct_pred, tf.float32))\n",
      "\n",
      "# Initializing the variables\n",
      "init = tf.initialize_all_variables()"
     ],
     "language": "python",
     "metadata": {},
     "outputs": [
      {
       "output_type": "stream",
       "stream": "stderr",
       "text": [
        "WARNING:tensorflow:<tensorflow.python.ops.rnn_cell.BasicLSTMCell object at 0x1062b6e50>: Using a concatenated state is slower and will soon be deprecated.  Use state_is_tuple=True.\n"
       ]
      },
      {
       "output_type": "stream",
       "stream": "stderr",
       "text": [
        "WARNING:tensorflow:<tensorflow.python.ops.rnn_cell.BasicLSTMCell object at 0x1062b6e50>: Using a concatenated state is slower and will soon be deprecated.  Use state_is_tuple=True.\n"
       ]
      },
      {
       "output_type": "stream",
       "stream": "stderr",
       "text": [
        "WARNING:tensorflow:<tensorflow.python.ops.rnn_cell.BasicLSTMCell object at 0x1062b6b10>: Using a concatenated state is slower and will soon be deprecated.  Use state_is_tuple=True.\n"
       ]
      },
      {
       "output_type": "stream",
       "stream": "stderr",
       "text": [
        "WARNING:tensorflow:<tensorflow.python.ops.rnn_cell.BasicLSTMCell object at 0x1062b6b10>: Using a concatenated state is slower and will soon be deprecated.  Use state_is_tuple=True.\n"
       ]
      }
     ],
     "prompt_number": 13
    },
    {
     "cell_type": "code",
     "collapsed": false,
     "input": [
      "# Strutified shuffle is used insted of simple shuffle in order to achieve sample balancing\n",
      "    # or equal number of examples in each of 10 classes.\n",
      "# Since there are different number of examples for each 10 classes in the MNIST data you may\n",
      "    # also use simple shuffle.\n",
      "\n",
      "def stratified_shuffle(labels, num_classes):\n",
      "    ix = np.argsort(labels).reshape((num_classes,-1))\n",
      "    for i in range(len(ix)):\n",
      "        np.random.shuffle(ix[i])\n",
      "    return ix.T.reshape((-1))"
     ],
     "language": "python",
     "metadata": {},
     "outputs": [],
     "prompt_number": 19
    },
    {
     "cell_type": "code",
     "collapsed": false,
     "input": [
      "# Training\n",
      "epochs_completed = 0\n",
      "index_in_epoch = 0\n",
      "num_examples = train_images.shape[0]\n",
      "\n",
      "# visualisation variables\n",
      "train_accuracies = []\n",
      "validation_accuracies = []\n",
      "x_range = []\n",
      "\n",
      "# serve data by batches\n",
      "def next_batch(batch_size):\n",
      "    \n",
      "    global train_images\n",
      "    global train_labels\n",
      "    global train_labels_flat\n",
      "    global index_in_epoch\n",
      "    global epochs_completed\n",
      "    \n",
      "    start = index_in_epoch\n",
      "    index_in_epoch += batch_size\n",
      "    \n",
      "    # when all trainig data have been already used, it is reorder randomly    \n",
      "    if index_in_epoch > num_examples:\n",
      "        # finished epoch\n",
      "        epochs_completed += 1\n",
      "        # shuffle the data\n",
      "        perm = np.arange(num_examples)\n",
      "        np.random.shuffle(perm)\n",
      "        #perm = stratified_shuffle(train_labels_flat, 10)\n",
      "        train_images = train_images[perm]\n",
      "        train_labels = train_labels[perm]\n",
      "        train_labels_flat = train_labels_flat[perm]\n",
      "        # start next epoch\n",
      "        start = 0\n",
      "        index_in_epoch = batch_size\n",
      "        assert batch_size <= num_examples\n",
      "    end = index_in_epoch\n",
      "    return train_images[start:end], train_labels[start:end]"
     ],
     "language": "python",
     "metadata": {},
     "outputs": [],
     "prompt_number": 25
    },
    {
     "cell_type": "code",
     "collapsed": false,
     "input": [
      "# Launch the graph\n",
      "saver = tf.train.Saver(max_to_keep=5)\n",
      "sess = tf.Session()\n",
      "sess.run(tf.initialize_all_variables())\n",
      "\n",
      "ckpt = tf.train.get_checkpoint_state('.')\n",
      "if ckpt and ckpt.model_checkpoint_path:\n",
      "    saver.restore(sess, ckpt.model_checkpoint_path)\n",
      "    print(\"Restored session from: %s\" % ckpt.model_checkpoint_path)\n",
      "else:\n",
      "    print(\"No checkpoint found.\")\n",
      "    \n",
      "start_step = global_step.eval(sess)\n",
      "for i in range(start_step, min(start_step + ITERATIONS_PER_RUN, TRAINING_ITERATIONS)):\n",
      "    sess.run(init)\n",
      "    step = 1\n",
      "    # Keep training until reach max iterations\n",
      "    while step * batch_size < training_iters:\n",
      "        batch_x, batch_y = next_batch(batch_size)\n",
      "        # Reshape data to get 28 seq of 28 elements\n",
      "        batch_x = batch_x.reshape((batch_size, n_steps, n_input))\n",
      "        # Run optimization op (backprop)\n",
      "        sess.run(optimizer, feed_dict={x: batch_x, y: batch_y})\n",
      "        if step % display_step == 0:\n",
      "            # Calculate batch accuracy\n",
      "            acc = sess.run(accuracy, feed_dict={x: batch_x, y: batch_y})\n",
      "            # Calculate batch loss\n",
      "            loss = sess.run(cost, feed_dict={x: batch_x, y: batch_y})\n",
      "            print(\"Iter \" + str(step*batch_size) + \", Minibatch Loss= \" + \\\n",
      "                  \"{:.6f}\".format(loss) + \", Training Accuracy= \" + \\\n",
      "                  \"{:.5f}\".format(acc))\n",
      "        step += 1\n",
      "    print(\"Optimization Finished!\")\n",
      "\n",
      "    test_len = 128\n",
      "    test_data =  validation_images.reshape((-1, n_steps, n_input))\n",
      "    test_label = validation_labels\n",
      "    print(\"Testing Accuracy:\", \\\n",
      "        sess.run(accuracy, feed_dict={x: test_data, y: test_label}))\n",
      "    saver.save(sess, 'model', global_step=i+1)"
     ],
     "language": "python",
     "metadata": {},
     "outputs": [
      {
       "output_type": "stream",
       "stream": "stdout",
       "text": [
        "Iter 1280, Minibatch Loss= 1.755664, Training Accuracy= 0.42969\n",
        "Iter 2560, Minibatch Loss= 1.212868, Training Accuracy= 0.62500"
       ]
      },
      {
       "output_type": "stream",
       "stream": "stdout",
       "text": [
        "\n",
        "Iter 3840, Minibatch Loss= 0.904883, Training Accuracy= 0.68750"
       ]
      },
      {
       "output_type": "stream",
       "stream": "stdout",
       "text": [
        "\n",
        "Iter 5120, Minibatch Loss= 0.811659, Training Accuracy= 0.73438"
       ]
      },
      {
       "output_type": "stream",
       "stream": "stdout",
       "text": [
        "\n",
        "Iter 6400, Minibatch Loss= 0.635554, Training Accuracy= 0.78125"
       ]
      },
      {
       "output_type": "stream",
       "stream": "stdout",
       "text": [
        "\n",
        "Iter 7680, Minibatch Loss= 0.610600, Training Accuracy= 0.81250"
       ]
      },
      {
       "output_type": "stream",
       "stream": "stdout",
       "text": [
        "\n",
        "Iter 8960, Minibatch Loss= 0.628577, Training Accuracy= 0.82812"
       ]
      },
      {
       "output_type": "stream",
       "stream": "stdout",
       "text": [
        "\n",
        "Iter 10240, Minibatch Loss= 0.525954, Training Accuracy= 0.83594"
       ]
      },
      {
       "output_type": "stream",
       "stream": "stdout",
       "text": [
        "\n",
        "Iter 11520, Minibatch Loss= 0.320729, Training Accuracy= 0.89844"
       ]
      },
      {
       "output_type": "stream",
       "stream": "stdout",
       "text": [
        "\n",
        "Iter 12800, Minibatch Loss= 0.457968, Training Accuracy= 0.83594"
       ]
      },
      {
       "output_type": "stream",
       "stream": "stdout",
       "text": [
        "\n",
        "Iter 14080, Minibatch Loss= 0.287802, Training Accuracy= 0.89062"
       ]
      },
      {
       "output_type": "stream",
       "stream": "stdout",
       "text": [
        "\n",
        "Iter 15360, Minibatch Loss= 0.270891, Training Accuracy= 0.93750"
       ]
      },
      {
       "output_type": "stream",
       "stream": "stdout",
       "text": [
        "\n",
        "Iter 16640, Minibatch Loss= 0.316820, Training Accuracy= 0.89844"
       ]
      },
      {
       "output_type": "stream",
       "stream": "stdout",
       "text": [
        "\n",
        "Iter 17920, Minibatch Loss= 0.298229, Training Accuracy= 0.90625"
       ]
      },
      {
       "output_type": "stream",
       "stream": "stdout",
       "text": [
        "\n",
        "Iter 19200, Minibatch Loss= 0.327001, Training Accuracy= 0.85938"
       ]
      },
      {
       "output_type": "stream",
       "stream": "stdout",
       "text": [
        "\n",
        "Iter 20480, Minibatch Loss= 0.300310, Training Accuracy= 0.92188"
       ]
      },
      {
       "output_type": "stream",
       "stream": "stdout",
       "text": [
        "\n",
        "Iter 21760, Minibatch Loss= 0.288746, Training Accuracy= 0.91406"
       ]
      },
      {
       "output_type": "stream",
       "stream": "stdout",
       "text": [
        "\n",
        "Iter 23040, Minibatch Loss= 0.251030, Training Accuracy= 0.94531"
       ]
      },
      {
       "output_type": "stream",
       "stream": "stdout",
       "text": [
        "\n",
        "Iter 24320, Minibatch Loss= 0.188075, Training Accuracy= 0.92969"
       ]
      },
      {
       "output_type": "stream",
       "stream": "stdout",
       "text": [
        "\n",
        "Iter 25600, Minibatch Loss= 0.212189, Training Accuracy= 0.92969"
       ]
      },
      {
       "output_type": "stream",
       "stream": "stdout",
       "text": [
        "\n",
        "Iter 26880, Minibatch Loss= 0.191988, Training Accuracy= 0.91406"
       ]
      },
      {
       "output_type": "stream",
       "stream": "stdout",
       "text": [
        "\n",
        "Iter 28160, Minibatch Loss= 0.174374, Training Accuracy= 0.93750"
       ]
      },
      {
       "output_type": "stream",
       "stream": "stdout",
       "text": [
        "\n",
        "Iter 29440, Minibatch Loss= 0.231610, Training Accuracy= 0.91406"
       ]
      },
      {
       "output_type": "stream",
       "stream": "stdout",
       "text": [
        "\n",
        "Iter 30720, Minibatch Loss= 0.216877, Training Accuracy= 0.92188"
       ]
      },
      {
       "output_type": "stream",
       "stream": "stdout",
       "text": [
        "\n",
        "Iter 32000, Minibatch Loss= 0.191306, Training Accuracy= 0.92969"
       ]
      },
      {
       "output_type": "stream",
       "stream": "stdout",
       "text": [
        "\n",
        "Iter 33280, Minibatch Loss= 0.219689, Training Accuracy= 0.92969"
       ]
      },
      {
       "output_type": "stream",
       "stream": "stdout",
       "text": [
        "\n",
        "Iter 34560, Minibatch Loss= 0.173724, Training Accuracy= 0.94531"
       ]
      },
      {
       "output_type": "stream",
       "stream": "stdout",
       "text": [
        "\n",
        "Iter 35840, Minibatch Loss= 0.102239, Training Accuracy= 0.96875"
       ]
      },
      {
       "output_type": "stream",
       "stream": "stdout",
       "text": [
        "\n",
        "Iter 37120, Minibatch Loss= 0.109119, Training Accuracy= 0.96094"
       ]
      },
      {
       "output_type": "stream",
       "stream": "stdout",
       "text": [
        "\n",
        "Iter 38400, Minibatch Loss= 0.109292, Training Accuracy= 0.98438"
       ]
      },
      {
       "output_type": "stream",
       "stream": "stdout",
       "text": [
        "\n",
        "Iter 39680, Minibatch Loss= 0.306919, Training Accuracy= 0.90625"
       ]
      },
      {
       "output_type": "stream",
       "stream": "stdout",
       "text": [
        "\n",
        "Iter 40960, Minibatch Loss= 0.203778, Training Accuracy= 0.92188"
       ]
      },
      {
       "output_type": "stream",
       "stream": "stdout",
       "text": [
        "\n",
        "Iter 42240, Minibatch Loss= 0.284107, Training Accuracy= 0.89844"
       ]
      },
      {
       "output_type": "stream",
       "stream": "stdout",
       "text": [
        "\n",
        "Iter 43520, Minibatch Loss= 0.138126, Training Accuracy= 0.97656"
       ]
      },
      {
       "output_type": "stream",
       "stream": "stdout",
       "text": [
        "\n",
        "Iter 44800, Minibatch Loss= 0.114046, Training Accuracy= 0.96094"
       ]
      },
      {
       "output_type": "stream",
       "stream": "stdout",
       "text": [
        "\n",
        "Iter 46080, Minibatch Loss= 0.071983, Training Accuracy= 0.98438"
       ]
      },
      {
       "output_type": "stream",
       "stream": "stdout",
       "text": [
        "\n",
        "Iter 47360, Minibatch Loss= 0.103043, Training Accuracy= 0.96094"
       ]
      },
      {
       "output_type": "stream",
       "stream": "stdout",
       "text": [
        "\n",
        "Iter 48640, Minibatch Loss= 0.144249, Training Accuracy= 0.95312"
       ]
      },
      {
       "output_type": "stream",
       "stream": "stdout",
       "text": [
        "\n",
        "Iter 49920, Minibatch Loss= 0.139357, Training Accuracy= 0.95312"
       ]
      },
      {
       "output_type": "stream",
       "stream": "stdout",
       "text": [
        "\n",
        "Iter 51200, Minibatch Loss= 0.133279, Training Accuracy= 0.96875"
       ]
      },
      {
       "output_type": "stream",
       "stream": "stdout",
       "text": [
        "\n",
        "Iter 52480, Minibatch Loss= 0.121659, Training Accuracy= 0.95312"
       ]
      },
      {
       "output_type": "stream",
       "stream": "stdout",
       "text": [
        "\n",
        "Iter 53760, Minibatch Loss= 0.134236, Training Accuracy= 0.94531"
       ]
      },
      {
       "output_type": "stream",
       "stream": "stdout",
       "text": [
        "\n",
        "Iter 55040, Minibatch Loss= 0.114976, Training Accuracy= 0.94531"
       ]
      },
      {
       "output_type": "stream",
       "stream": "stdout",
       "text": [
        "\n",
        "Iter 56320, Minibatch Loss= 0.079626, Training Accuracy= 0.96875"
       ]
      },
      {
       "output_type": "stream",
       "stream": "stdout",
       "text": [
        "\n",
        "Iter 57600, Minibatch Loss= 0.100246, Training Accuracy= 0.96875"
       ]
      },
      {
       "output_type": "stream",
       "stream": "stdout",
       "text": [
        "\n",
        "Iter 58880, Minibatch Loss= 0.122625, Training Accuracy= 0.96094"
       ]
      },
      {
       "output_type": "stream",
       "stream": "stdout",
       "text": [
        "\n",
        "Iter 60160, Minibatch Loss= 0.118390, Training Accuracy= 0.96094"
       ]
      },
      {
       "output_type": "stream",
       "stream": "stdout",
       "text": [
        "\n",
        "Iter 61440, Minibatch Loss= 0.185835, Training Accuracy= 0.94531"
       ]
      },
      {
       "output_type": "stream",
       "stream": "stdout",
       "text": [
        "\n",
        "Iter 62720, Minibatch Loss= 0.106119, Training Accuracy= 0.95312"
       ]
      },
      {
       "output_type": "stream",
       "stream": "stdout",
       "text": [
        "\n",
        "Iter 64000, Minibatch Loss= 0.115121, Training Accuracy= 0.97656"
       ]
      },
      {
       "output_type": "stream",
       "stream": "stdout",
       "text": [
        "\n",
        "Iter 65280, Minibatch Loss= 0.115135, Training Accuracy= 0.95312"
       ]
      },
      {
       "output_type": "stream",
       "stream": "stdout",
       "text": [
        "\n",
        "Iter 66560, Minibatch Loss= 0.117334, Training Accuracy= 0.97656"
       ]
      },
      {
       "output_type": "stream",
       "stream": "stdout",
       "text": [
        "\n",
        "Iter 67840, Minibatch Loss= 0.126765, Training Accuracy= 0.97656"
       ]
      },
      {
       "output_type": "stream",
       "stream": "stdout",
       "text": [
        "\n",
        "Iter 69120, Minibatch Loss= 0.138394, Training Accuracy= 0.95312"
       ]
      },
      {
       "output_type": "stream",
       "stream": "stdout",
       "text": [
        "\n",
        "Iter 70400, Minibatch Loss= 0.071930, Training Accuracy= 0.98438"
       ]
      },
      {
       "output_type": "stream",
       "stream": "stdout",
       "text": [
        "\n",
        "Iter 71680, Minibatch Loss= 0.078006, Training Accuracy= 0.96094"
       ]
      },
      {
       "output_type": "stream",
       "stream": "stdout",
       "text": [
        "\n",
        "Iter 72960, Minibatch Loss= 0.122468, Training Accuracy= 0.95312"
       ]
      },
      {
       "output_type": "stream",
       "stream": "stdout",
       "text": [
        "\n",
        "Iter 74240, Minibatch Loss= 0.109707, Training Accuracy= 0.96094"
       ]
      },
      {
       "output_type": "stream",
       "stream": "stdout",
       "text": [
        "\n",
        "Iter 75520, Minibatch Loss= 0.074332, Training Accuracy= 0.97656"
       ]
      },
      {
       "output_type": "stream",
       "stream": "stdout",
       "text": [
        "\n",
        "Iter 76800, Minibatch Loss= 0.100400, Training Accuracy= 0.97656"
       ]
      },
      {
       "output_type": "stream",
       "stream": "stdout",
       "text": [
        "\n",
        "Iter 78080, Minibatch Loss= 0.076505, Training Accuracy= 0.98438"
       ]
      },
      {
       "output_type": "stream",
       "stream": "stdout",
       "text": [
        "\n",
        "Iter 79360, Minibatch Loss= 0.146538, Training Accuracy= 0.96094"
       ]
      },
      {
       "output_type": "stream",
       "stream": "stdout",
       "text": [
        "\n",
        "Iter 80640, Minibatch Loss= 0.142548, Training Accuracy= 0.96094"
       ]
      },
      {
       "output_type": "stream",
       "stream": "stdout",
       "text": [
        "\n",
        "Iter 81920, Minibatch Loss= 0.033582, Training Accuracy= 0.99219"
       ]
      },
      {
       "output_type": "stream",
       "stream": "stdout",
       "text": [
        "\n",
        "Iter 83200, Minibatch Loss= 0.075734, Training Accuracy= 0.96094"
       ]
      },
      {
       "output_type": "stream",
       "stream": "stdout",
       "text": [
        "\n",
        "Iter 84480, Minibatch Loss= 0.100758, Training Accuracy= 0.96094"
       ]
      },
      {
       "output_type": "stream",
       "stream": "stdout",
       "text": [
        "\n",
        "Iter 85760, Minibatch Loss= 0.054176, Training Accuracy= 0.98438"
       ]
      },
      {
       "output_type": "stream",
       "stream": "stdout",
       "text": [
        "\n",
        "Iter 87040, Minibatch Loss= 0.082799, Training Accuracy= 0.97656"
       ]
      },
      {
       "output_type": "stream",
       "stream": "stdout",
       "text": [
        "\n",
        "Iter 88320, Minibatch Loss= 0.115938, Training Accuracy= 0.98438"
       ]
      },
      {
       "output_type": "stream",
       "stream": "stdout",
       "text": [
        "\n",
        "Iter 89600, Minibatch Loss= 0.101315, Training Accuracy= 0.97656"
       ]
      },
      {
       "output_type": "stream",
       "stream": "stdout",
       "text": [
        "\n",
        "Iter 90880, Minibatch Loss= 0.077859, Training Accuracy= 0.96875"
       ]
      },
      {
       "output_type": "stream",
       "stream": "stdout",
       "text": [
        "\n",
        "Iter 92160, Minibatch Loss= 0.079088, Training Accuracy= 0.97656"
       ]
      },
      {
       "output_type": "stream",
       "stream": "stdout",
       "text": [
        "\n",
        "Iter 93440, Minibatch Loss= 0.082847, Training Accuracy= 0.97656"
       ]
      },
      {
       "output_type": "stream",
       "stream": "stdout",
       "text": [
        "\n",
        "Iter 94720, Minibatch Loss= 0.075818, Training Accuracy= 0.96875"
       ]
      },
      {
       "output_type": "stream",
       "stream": "stdout",
       "text": [
        "\n",
        "Iter 96000, Minibatch Loss= 0.052176, Training Accuracy= 0.98438"
       ]
      },
      {
       "output_type": "stream",
       "stream": "stdout",
       "text": [
        "\n",
        "Iter 97280, Minibatch Loss= 0.071600, Training Accuracy= 0.96875"
       ]
      },
      {
       "output_type": "stream",
       "stream": "stdout",
       "text": [
        "\n",
        "Iter 98560, Minibatch Loss= 0.078695, Training Accuracy= 0.96875"
       ]
      },
      {
       "output_type": "stream",
       "stream": "stdout",
       "text": [
        "\n",
        "Iter 99840, Minibatch Loss= 0.095374, Training Accuracy= 0.98438"
       ]
      },
      {
       "output_type": "stream",
       "stream": "stdout",
       "text": [
        "\n",
        "Optimization Finished!"
       ]
      },
      {
       "output_type": "stream",
       "stream": "stdout",
       "text": [
        "\n",
        "('Testing Accuracy:', 0.984375)\n"
       ]
      },
      {
       "ename": "NameError",
       "evalue": "name 'i' is not defined",
       "output_type": "pyerr",
       "traceback": [
        "\u001b[0;31m---------------------------------------------------------------------------\u001b[0m\n\u001b[0;31mNameError\u001b[0m                                 Traceback (most recent call last)",
        "\u001b[0;32m<ipython-input-26-d1a26b3e8377>\u001b[0m in \u001b[0;36m<module>\u001b[0;34m()\u001b[0m\n\u001b[1;32m     24\u001b[0m     \u001b[0mtest_label\u001b[0m \u001b[0;34m=\u001b[0m \u001b[0mvalidation_labels\u001b[0m\u001b[0;34m\u001b[0m\u001b[0m\n\u001b[1;32m     25\u001b[0m     \u001b[0;32mprint\u001b[0m\u001b[0;34m(\u001b[0m\u001b[0;34m\"Testing Accuracy:\"\u001b[0m\u001b[0;34m,\u001b[0m         \u001b[0msess\u001b[0m\u001b[0;34m.\u001b[0m\u001b[0mrun\u001b[0m\u001b[0;34m(\u001b[0m\u001b[0maccuracy\u001b[0m\u001b[0;34m,\u001b[0m \u001b[0mfeed_dict\u001b[0m\u001b[0;34m=\u001b[0m\u001b[0;34m{\u001b[0m\u001b[0mx\u001b[0m\u001b[0;34m:\u001b[0m \u001b[0mtest_data\u001b[0m\u001b[0;34m,\u001b[0m \u001b[0my\u001b[0m\u001b[0;34m:\u001b[0m \u001b[0mtest_label\u001b[0m\u001b[0;34m}\u001b[0m\u001b[0;34m)\u001b[0m\u001b[0;34m)\u001b[0m\u001b[0;34m\u001b[0m\u001b[0m\n\u001b[0;32m---> 26\u001b[0;31m     \u001b[0msaver\u001b[0m\u001b[0;34m.\u001b[0m\u001b[0msave\u001b[0m\u001b[0;34m(\u001b[0m\u001b[0msess\u001b[0m\u001b[0;34m,\u001b[0m \u001b[0;34m'model'\u001b[0m\u001b[0;34m,\u001b[0m \u001b[0mglobal_step\u001b[0m\u001b[0;34m=\u001b[0m\u001b[0mi\u001b[0m\u001b[0;34m+\u001b[0m\u001b[0;36m1\u001b[0m\u001b[0;34m)\u001b[0m\u001b[0;34m\u001b[0m\u001b[0m\n\u001b[0m",
        "\u001b[0;31mNameError\u001b[0m: name 'i' is not defined"
       ]
      }
     ],
     "prompt_number": 26
    },
    {
     "cell_type": "code",
     "collapsed": false,
     "input": [],
     "language": "python",
     "metadata": {},
     "outputs": []
    }
   ],
   "metadata": {}
  }
 ]
}