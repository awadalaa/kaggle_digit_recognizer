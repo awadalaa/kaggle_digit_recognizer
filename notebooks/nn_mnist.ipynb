{
 "metadata": {
  "name": "",
  "signature": "sha256:b2a3ab1a942376439956398929aa3f33856440597ee7e3ef03ce7a7ded9c024a"
 },
 "nbformat": 3,
 "nbformat_minor": 0,
 "worksheets": [
  {
   "cells": [
    {
     "cell_type": "code",
     "collapsed": false,
     "input": [
      "# import packages\n",
      "\n",
      "import numpy as np\n",
      "import pandas as pd\n",
      "import tensorflow as tf\n",
      "\n",
      "import matplotlib.pyplot as plt\n",
      "import matplotlib.cm as cm\n",
      "%matplotlib inline\n",
      "\n",
      "from subprocess import check_output\n",
      "\n",
      "# Learning rate for learning algorithm\n",
      "LEARNING_RATE = 1e-4\n",
      "\n",
      "# number of training iterations\n",
      "TRAINING_ITERATIONS = 10000\n",
      "ITERATIONS_PER_RUN = 100\n",
      "\n",
      "# dropout. Dropout is an extremely effective and simple regularization technique\n",
      "# based on keeping a neuron active with some probability p (a hyperparameter, here is DROPOUT), \n",
      "# or setting it to zero otherwise.\n",
      "# More about dropout http://cs231n.github.io/neural-networks-2/ \n",
      "DROPOUT = 0.5\n",
      "# training is made by selecting batches of size 50\n",
      "BATCH_SIZE = 100\n",
      "\n",
      "# validation set size. Validation set is a set of examples used to tune the parameters .\n",
      "# set to 0 to train on all available data\n",
      "VALIDATION_SIZE = 2000\n",
      "\n",
      "# image number to output\n",
      "IMAGE_TO_DISPLAY = 25"
     ],
     "language": "python",
     "metadata": {},
     "outputs": [],
     "prompt_number": 56
    },
    {
     "cell_type": "code",
     "collapsed": false,
     "input": [
      "dataset = pd.read_csv(\"../input/train.csv\")\n",
      "test = pd.read_csv(\"../input/test.csv\")"
     ],
     "language": "python",
     "metadata": {},
     "outputs": [],
     "prompt_number": 3
    },
    {
     "cell_type": "code",
     "collapsed": false,
     "input": [
      "print('dataset({0[0]},{0[1]})'.format(dataset.shape))\n",
      "print('test({0[0]},{0[1]})'.format(test.shape))\n",
      "print (dataset.head())\n",
      "print (test.head())"
     ],
     "language": "python",
     "metadata": {},
     "outputs": [
      {
       "output_type": "stream",
       "stream": "stdout",
       "text": [
        "dataset(42000,785)\n",
        "test(28000,784)\n",
        "   label  pixel0  pixel1  pixel2  pixel3  pixel4  pixel5  pixel6  pixel7  \\\n",
        "0      1       0       0       0       0       0       0       0       0   \n",
        "1      0       0       0       0       0       0       0       0       0   \n",
        "2      1       0       0       0       0       0       0       0       0   \n",
        "3      4       0       0       0       0       0       0       0       0   \n",
        "4      0       0       0       0       0       0       0       0       0   \n",
        "\n",
        "   pixel8  pixel9  pixel10  pixel11  pixel12  pixel13  pixel14  pixel15  \\\n",
        "0       0       0        0        0        0        0        0        0   \n",
        "1       0       0        0        0        0        0        0        0   \n",
        "2       0       0        0        0        0        0        0        0   \n",
        "3       0       0        0        0        0        0        0        0   \n",
        "4       0       0        0        0        0        0        0        0   \n",
        "\n",
        "   pixel16  pixel17  pixel18      \n",
        "0        0        0        0 ...  \n",
        "1        0        0        0 ...  \n",
        "2        0        0        0 ...  \n",
        "3        0        0        0 ...  \n",
        "4        0        0        0 ...  \n",
        "\n",
        "[5 rows x 785 columns]\n",
        "   pixel0  pixel1  pixel2  pixel3  pixel4  pixel5  pixel6  pixel7  pixel8  \\\n",
        "0       0       0       0       0       0       0       0       0       0   \n",
        "1       0       0       0       0       0       0       0       0       0   \n",
        "2       0       0       0       0       0       0       0       0       0   \n",
        "3       0       0       0       0       0       0       0       0       0   \n",
        "4       0       0       0       0       0       0       0       0       0   \n",
        "\n",
        "   pixel9  pixel10  pixel11  pixel12  pixel13  pixel14  pixel15  pixel16  \\\n",
        "0       0        0        0        0        0        0        0        0   \n",
        "1       0        0        0        0        0        0        0        0   \n",
        "2       0        0        0        0        0        0        0        0   \n",
        "3       0        0        0        0        0        0        0        0   \n",
        "4       0        0        0        0        0        0        0        0   \n",
        "\n",
        "   pixel17  pixel18  pixel19      \n",
        "0        0        0        0 ...  \n",
        "1        0        0        0 ...  \n",
        "2        0        0        0 ...  \n",
        "3        0        0        0 ...  \n",
        "4        0        0        0 ...  \n",
        "\n",
        "[5 rows x 784 columns]\n"
       ]
      }
     ],
     "prompt_number": 4
    },
    {
     "cell_type": "code",
     "collapsed": false,
     "input": [
      "labels = dataset.iloc[:,0]\n",
      "images = dataset.iloc[:,1:].values\n",
      "images = images.astype(np.float)\n",
      "\n",
      "# convert from [0:255] => [0.0:1.0]\n",
      "images = np.multiply(images, 1.0 / 255.0)\n",
      "\n",
      "print('images({0[0]},{0[1]})'.format(images.shape))"
     ],
     "language": "python",
     "metadata": {},
     "outputs": [
      {
       "output_type": "stream",
       "stream": "stdout",
       "text": [
        "images(42000,784)\n"
       ]
      }
     ],
     "prompt_number": 5
    },
    {
     "cell_type": "code",
     "collapsed": false,
     "input": [
      "# size of one image - 784 values which can be transformed to 28 by 28 image\n",
      "image_size = images.shape[1]\n",
      "print ('image_size => {0}'.format(image_size))\n",
      "\n",
      "# in this case all images are square (28x28)\n",
      "image_width = image_height = np.ceil(np.sqrt(image_size)).astype(np.uint8)\n",
      "print ('image_width => {0}\\nimage_height => {1}'.format(image_width,image_height))"
     ],
     "language": "python",
     "metadata": {},
     "outputs": [
      {
       "output_type": "stream",
       "stream": "stdout",
       "text": [
        "image_size => 784\n",
        "image_width => 28\n",
        "image_height => 28\n"
       ]
      }
     ],
     "prompt_number": 6
    },
    {
     "cell_type": "code",
     "collapsed": false,
     "input": [
      "def display(img):\n",
      "    one_image = img.reshape(image_width, image_height)\n",
      "    plt.axis('off')\n",
      "    plt.imshow(one_image, cmap=cm.binary)\n"
     ],
     "language": "python",
     "metadata": {},
     "outputs": [],
     "prompt_number": 7
    },
    {
     "cell_type": "code",
     "collapsed": false,
     "input": [
      "# display an image. IMAGE_TO_DISPLAY = 25\n",
      "display(images[IMAGE_TO_DISPLAY])"
     ],
     "language": "python",
     "metadata": {},
     "outputs": [
      {
       "metadata": {},
       "output_type": "display_data",
       "png": "[encoded data removed]",
       "text": [
        "<matplotlib.figure.Figure at 0x10f9641d0>"
       ]
      }
     ],
     "prompt_number": 11
    },
    {
     "cell_type": "code",
     "collapsed": false,
     "input": [
      "labels[IMAGE_TO_DISPLAY]"
     ],
     "language": "python",
     "metadata": {},
     "outputs": [
      {
       "metadata": {},
       "output_type": "pyout",
       "prompt_number": 13,
       "text": [
        "3"
       ]
      }
     ],
     "prompt_number": 13
    },
    {
     "cell_type": "code",
     "collapsed": false,
     "input": [
      "# print information about image size, label of image-to-display and number of labels\n",
      "labels_flat = dataset[[0]].values.ravel()\n",
      "print('length of one image ({0})'.format(len(labels_flat)))\n",
      "print ('label of image [{0}] => {1}'.format(IMAGE_TO_DISPLAY,labels_flat[IMAGE_TO_DISPLAY]))\n",
      "\n",
      "labels_count = np.unique(labels_flat).shape[0]\n",
      "print('number of labes => {0}'.format(labels_count))"
     ],
     "language": "python",
     "metadata": {},
     "outputs": [
      {
       "output_type": "stream",
       "stream": "stdout",
       "text": [
        "length of one image (42000)\n",
        "label of image [25] => 3\n",
        "number of labes => 10\n"
       ]
      }
     ],
     "prompt_number": 14
    },
    {
     "cell_type": "code",
     "collapsed": false,
     "input": [
      "# convert class labels from scalars to one-hot vectors\n",
      "# 0 => [1 0 0 0 0 0 0 0 0 0]\n",
      "# 1 => [0 1 0 0 0 0 0 0 0 0]\n",
      "# ...\n",
      "# 9 => [0 0 0 0 0 0 0 0 0 1]\n",
      "\n",
      "def dense_to_one_hot(labels_dense, num_classes):\n",
      "    num_labels = labels_dense.shape[0]\n",
      "    print num_labels\n",
      "    index_offset = np.arange(num_labels) * num_classes\n",
      "    print index_offset\n",
      "    labels_one_hot = np.zeros((num_labels, num_classes))\n",
      "    print lables_one_hot\n",
      "    labels_one_hot.flat[index_offset + labels_dense.ravel()] = 1\n",
      "    return labels_one_hot\n",
      "\n",
      "labels = dense_to_one_hot(labels_flat, labels_count)\n",
      "labels = labels.astype(np.uint8)\n",
      "\n",
      "print('labels({0[0]},{0[1]})'.format(labels.shape))\n",
      "print ('labels vector for image [{0}] => {1}'.format(IMAGE_TO_DISPLAY,labels[IMAGE_TO_DISPLAY]))"
     ],
     "language": "python",
     "metadata": {},
     "outputs": [
      {
       "output_type": "stream",
       "stream": "stdout",
       "text": [
        "42000\n",
        "labels(42000,10)\n",
        "labels vector for image [25] => [0 0 0 1 0 0 0 0 0 0]\n"
       ]
      }
     ],
     "prompt_number": 15
    },
    {
     "cell_type": "code",
     "collapsed": false,
     "input": [
      "# split data into training & validation sets\n",
      "validation_images = images[:VALIDATION_SIZE]\n",
      "validation_labels = labels[:VALIDATION_SIZE]\n",
      "\n",
      "train_images = images[VALIDATION_SIZE:]\n",
      "train_labels = labels[VALIDATION_SIZE:]\n",
      "train_labels_flat = labels_flat[VALIDATION_SIZE:]\n",
      "\n",
      "#train_images = images\n",
      "#train_labels = labels\n",
      "#train_labels_flat = labels_flat\n",
      "\n",
      "print('train data size({0[0]},{0[1]})'.format(train_images.shape))\n",
      "print('validation data size({0[0]},{0[1]})'.format(validation_images.shape))"
     ],
     "language": "python",
     "metadata": {},
     "outputs": [
      {
       "output_type": "stream",
       "stream": "stdout",
       "text": [
        "train data size(40000,784)\n",
        "validation data size(2000,784)\n"
       ]
      }
     ],
     "prompt_number": 16
    },
    {
     "cell_type": "code",
     "collapsed": false,
     "input": [
      "# weights initialization.\n",
      "# tf.truncated_normal: Outputs random values from a truncated normal distribution.\n",
      "# The generated values follow a normal distribution with specified standard deviation.\n",
      "\n",
      "def weight_variable(shape):\n",
      "    initial = tf.truncated_normal(shape, stddev=0.1)\n",
      "    return tf.Variable(initial)\n",
      "\n",
      "# tf.constant: Creates a constant tensor. \n",
      "# The resulting tensor is populated with values of type dtype, as specified by arguments value and shape\n",
      "def bias_variable(shape):\n",
      "    initial = tf.constant(0.1, shape=shape)\n",
      "    return tf.Variable(initial)"
     ],
     "language": "python",
     "metadata": {},
     "outputs": [],
     "prompt_number": 17
    },
    {
     "cell_type": "code",
     "collapsed": false,
     "input": [
      "# convolution\n",
      "# Computes a 2-D convolution given 4-D input and filter tensors.\n",
      "# tf.nn.conv2d(input, filter, strides, padding, use_cudnn_on_gpu=None, data_format=None, name=None)\n",
      "# input: A Tensor. Must be one of the following types: half, float32, float64.\n",
      "# filter: A Tensor. Must have the same type as input.\n",
      "# strides: A list of ints. 1-D of length 4. The stride of the sliding window for each dimension \n",
      "            # of input. Must be in the same order as the dimension specified with format.\n",
      "# padding: A string from: \"SAME\", \"VALID\". The type of padding algorithm to use.\n",
      "\n",
      "def conv2d(x, W):\n",
      "    return tf.nn.conv2d(x, W, strides=[1, 1, 1, 1], padding='SAME')"
     ],
     "language": "python",
     "metadata": {},
     "outputs": [],
     "prompt_number": 18
    },
    {
     "cell_type": "code",
     "collapsed": false,
     "input": [
      "# Performs the max pooling on the input.\n",
      "# tf.nn.max_pool(value, ksize, strides, padding, data_format='NHWC', name=None)\n",
      "# value: A 4-D Tensor with shape [batch, height, width, channels] and type tf.float32.\n",
      "# ksize: A list of ints that has length >= 4. The size of the window for each dimension \n",
      "        # of the input tensor.\n",
      "# strides: A list of ints that has length >= 4. The stride of the sliding window for \n",
      "            # each dimension of the input tensor.\n",
      "# padding: A string, either 'VALID' or 'SAME'. \n",
      "\n",
      "def max_pool_2x2(x):\n",
      "    return tf.nn.max_pool(x, ksize=[1, 2, 2, 1], strides=[1, 2, 2, 1], padding='SAME')"
     ],
     "language": "python",
     "metadata": {},
     "outputs": [],
     "prompt_number": 19
    },
    {
     "cell_type": "code",
     "collapsed": false,
     "input": [
      "# input & output of NN\n",
      "\n",
      "# images\n",
      "x = tf.placeholder('float', shape=[None, image_size])\n",
      "# labels\n",
      "y_ = tf.placeholder('float', shape=[None, labels_count])"
     ],
     "language": "python",
     "metadata": {},
     "outputs": [],
     "prompt_number": 20
    },
    {
     "cell_type": "code",
     "collapsed": false,
     "input": [
      "# first convolutional layer\n",
      "W_conv1 = weight_variable([5, 5, 1, 32])\n",
      "b_conv1 = bias_variable([32])\n",
      "\n",
      "# (40000,784) => (40000,28,28,1)]\n",
      "# tf.reshape(tensor, shape, name=None)\n",
      "# Given tensor, this operation returns a tensor that has the same values as tensor with shape shape.\n",
      "image = tf.reshape(x, [-1,image_width , image_height,1])\n",
      "#print (image.get_shape()) # =>(40000,28,28,1)\n",
      "\n",
      "h_conv1 = tf.nn.relu(conv2d(image, W_conv1) + b_conv1)\n",
      "#print (h_conv1.get_shape()) # => (40000, 28, 28, 32)\n",
      "h_pool1 = max_pool_2x2(h_conv1)\n",
      "#print (h_pool1.get_shape()) # => (40000, 14, 14, 32)\n",
      "\n",
      "# Prepare for visualization\n",
      "# display 32 fetures in 4 by 8 grid\n",
      "layer1 = tf.reshape(h_conv1, (-1, image_height, image_width, 4 ,8))  \n",
      "# reorder so the channels are in the first dimension, x and y follow.\n",
      "layer1 = tf.transpose(layer1, (0, 3, 1, 4,2))\n",
      "layer1 = tf.reshape(layer1, (-1, image_height*4, image_width*8)) "
     ],
     "language": "python",
     "metadata": {},
     "outputs": [],
     "prompt_number": 21
    },
    {
     "cell_type": "code",
     "collapsed": false,
     "input": [
      "# second convolutional layer\n",
      "W_conv2 = weight_variable([5, 5, 32, 64])\n",
      "b_conv2 = bias_variable([64])\n",
      "\n",
      "h_conv2 = tf.nn.relu(conv2d(h_pool1, W_conv2) + b_conv2)\n",
      "#print (h_conv2.get_shape()) # => (40000, 14,14, 64)\n",
      "h_pool2 = max_pool_2x2(h_conv2)\n",
      "#print (h_pool2.get_shape()) # => (40000, 7, 7, 64)\n",
      "\n",
      "# Prepare for visualization\n",
      "# display 64 fetures in 4 by 16 grid\n",
      "layer2 = tf.reshape(h_conv2, (-1, 14, 14, 4 ,16))  \n",
      "# reorder so the channels are in the first dimension, x and y follow.\n",
      "layer2 = tf.transpose(layer2, (0, 3, 1, 4,2))\n",
      "layer2 = tf.reshape(layer2, (-1, 14*4, 14*16)) "
     ],
     "language": "python",
     "metadata": {},
     "outputs": [],
     "prompt_number": 22
    },
    {
     "cell_type": "code",
     "collapsed": false,
     "input": [
      "# fully-connected layer\n",
      "W_fc1 = weight_variable([7 * 7 * 64, 1024])\n",
      "b_fc1 = bias_variable([1024])\n",
      "\n",
      "# (40000, 7, 7, 64) => (40000, 3136)\n",
      "h_pool2_flat = tf.reshape(h_pool2, [-1, 7*7*64])\n",
      "\n",
      "#tf.matmul(a, b, transpose_a=False, transpose_b=False, a_is_sparse=False, b_is_sparse=False, name=None)\n",
      "# Multiplies matrix a by matrix b, producing a * b.\n",
      "h_fc1 = tf.nn.relu(tf.matmul(h_pool2_flat, W_fc1) + b_fc1)\n",
      "#print (h_fc1.get_shape()) # => (40000, 1024)"
     ],
     "language": "python",
     "metadata": {},
     "outputs": [],
     "prompt_number": 24
    },
    {
     "cell_type": "code",
     "collapsed": false,
     "input": [
      "# dropout\n",
      "# tf.nn.dropout(x, keep_prob, noise_shape=None, seed=None, name=None)\n",
      "# Computes dropout.\n",
      "# With probability keep_prob, outputs the input element scaled up by 1 / keep_prob, otherwise outputs 0. \n",
      "    # The scaling is so that the expected sum is unchanged.\n",
      "keep_prob = tf.placeholder('float')\n",
      "h_fc1_drop = tf.nn.dropout(h_fc1, keep_prob)"
     ],
     "language": "python",
     "metadata": {},
     "outputs": [],
     "prompt_number": 25
    },
    {
     "cell_type": "code",
     "collapsed": false,
     "input": [
      "# readout layer for deep net\n",
      "W_fc2 = weight_variable([1024, labels_count])\n",
      "b_fc2 = bias_variable([labels_count])\n",
      "\n",
      "y = tf.nn.softmax(tf.matmul(h_fc1_drop, W_fc2) + b_fc2)\n",
      "\n",
      "#print (y.get_shape()) # => (40000, 10)"
     ],
     "language": "python",
     "metadata": {},
     "outputs": [],
     "prompt_number": 26
    },
    {
     "cell_type": "code",
     "collapsed": false,
     "input": [
      "# cost function\n",
      "cross_entropy = -tf.reduce_sum(y_*tf.log(y))\n",
      "\n",
      "# optimisation function\n",
      "global_step = tf.Variable(0, name='global_step', trainable=False)\n",
      "train_step = tf.train.AdamOptimizer(LEARNING_RATE).minimize(cross_entropy, global_step=global_step)\n",
      "\n",
      "# evaluation\n",
      "correct_prediction = tf.equal(tf.argmax(y,1), tf.argmax(y_,1))\n",
      "\n",
      "accuracy = tf.reduce_mean(tf.cast(correct_prediction, 'float'))"
     ],
     "language": "python",
     "metadata": {},
     "outputs": [],
     "prompt_number": 27
    },
    {
     "cell_type": "code",
     "collapsed": false,
     "input": [
      "# prediction function\n",
      "#[0.1, 0.9, 0.2, 0.1, 0.1 0.3, 0.5, 0.1, 0.2, 0.3] => 1\n",
      "predict = tf.argmax(y,1)\n",
      "print(predict)"
     ],
     "language": "python",
     "metadata": {},
     "outputs": [
      {
       "output_type": "stream",
       "stream": "stdout",
       "text": [
        "Tensor(\"ArgMax_2:0\", shape=(?,), dtype=int64)\n"
       ]
      }
     ],
     "prompt_number": 28
    },
    {
     "cell_type": "code",
     "collapsed": false,
     "input": [
      "# Strutified shuffle is used insted of simple shuffle in order to achieve sample balancing\n",
      "    # or equal number of examples in each of 10 classes.\n",
      "# Since there are different number of examples for each 10 classes in the MNIST data you may\n",
      "    # also use simple shuffle.\n",
      "\n",
      "def stratified_shuffle(labels, num_classes):\n",
      "    ix = np.argsort(labels).reshape((num_classes,-1))\n",
      "    for i in range(len(ix)):\n",
      "        np.random.shuffle(ix[i])\n",
      "    return ix.T.reshape((-1))"
     ],
     "language": "python",
     "metadata": {},
     "outputs": [],
     "prompt_number": 42
    },
    {
     "cell_type": "code",
     "collapsed": false,
     "input": [
      "# Training\n",
      "epochs_completed = 0\n",
      "index_in_epoch = 0\n",
      "num_examples = train_images.shape[0]\n",
      "\n",
      "# visualisation variables\n",
      "train_accuracies = []\n",
      "validation_accuracies = []\n",
      "x_range = []\n",
      "\n",
      "display_step=100\n",
      "\n",
      "# serve data by batches\n",
      "def next_batch(batch_size):\n",
      "    \n",
      "    global train_images\n",
      "    global train_labels\n",
      "    global train_labels_flat\n",
      "    global index_in_epoch\n",
      "    global epochs_completed\n",
      "    \n",
      "    start = index_in_epoch\n",
      "    index_in_epoch += batch_size\n",
      "    \n",
      "    # when all trainig data have been already used, it is reorder randomly    \n",
      "    if index_in_epoch > num_examples:\n",
      "        # finished epoch\n",
      "        epochs_completed += 1\n",
      "        # shuffle the data\n",
      "        #perm = np.arange(num_examples)\n",
      "        #np.random.shuffle(perm)\n",
      "        perm = stratified_shuffle(train_labels_flat, 10)\n",
      "        train_images = train_images[perm]\n",
      "        train_labels = train_labels[perm]\n",
      "        train_labels_flat = train_labels_flat[perm]\n",
      "        # start next epoch\n",
      "        start = 0\n",
      "        index_in_epoch = batch_size\n",
      "        assert batch_size <= num_examples\n",
      "    end = index_in_epoch\n",
      "    return train_images[start:end], train_labels[start:end]"
     ],
     "language": "python",
     "metadata": {},
     "outputs": [],
     "prompt_number": 57
    },
    {
     "cell_type": "code",
     "collapsed": false,
     "input": [
      "# displays the progress of the training\n",
      "# Training accuracy, validation accuracy and iterations\n",
      "\n",
      "def check_progress(sess, accuracy, batch_xs, batch_ys, i):\n",
      "    import datetime\n",
      "    train_accuracy = accuracy.eval(session=sess, feed_dict={x: batch_xs, y_: batch_ys, keep_prob: 1.0})       \n",
      "    if(VALIDATION_SIZE):\n",
      "        validation_accuracy = accuracy.eval(session=sess, feed_dict={x: validation_images,\n",
      "                                                                     y_: validation_labels,\n",
      "                                                                     keep_prob: 1.0})                                  \n",
      "        print('%s: trn / val => %.4f / %.4f for step %d'\n",
      "              % (str(datetime.datetime.now()), train_accuracy, validation_accuracy, i+1))\n",
      "    else:\n",
      "        print('training_accuracy => %.4f for step %d' % (train_accuracy, i+1))\n",
      "        validation_accuracy = []\n",
      "    return (train_accuracy, validation_accuracy)"
     ],
     "language": "python",
     "metadata": {},
     "outputs": [],
     "prompt_number": 30
    },
    {
     "cell_type": "code",
     "collapsed": false,
     "input": [
      "# In this part we save model after a certain number of iterations and use the saved model\n",
      "# for the next round\n",
      "# By this we achieve 10 epochs on the entire training data (validation data included)\n",
      "\n",
      "saver = tf.train.Saver(max_to_keep=5)\n",
      "sess = tf.Session()\n",
      "sess.run(tf.initialize_all_variables())\n",
      "\n",
      "ckpt = tf.train.get_checkpoint_state('.')\n",
      "if ckpt and ckpt.model_checkpoint_path:\n",
      "    saver.restore(sess, ckpt.model_checkpoint_path)\n",
      "    print(\"Restored session from: %s\" % ckpt.model_checkpoint_path)\n",
      "else:\n",
      "    print(\"No checkpoint found.\")\n",
      "\n",
      "start_step = global_step.eval(sess)\n",
      "for i in range(start_step, min(start_step + ITERATIONS_PER_RUN, TRAINING_ITERATIONS)):\n",
      "    #get new batch\n",
      "    batch_xs, batch_ys = next_batch(BATCH_SIZE)\n",
      "\n",
      "    # train on batch\n",
      "    sess.run(train_step, feed_dict={x: batch_xs, y_: batch_ys, keep_prob: DROPOUT})\n",
      "\n",
      "    # check progress and create a checkpoint\n",
      "    if (i+1) % display_step == 0 or (i+1) == TRAINING_ITERATIONS:\n",
      "        train_accuracy, validation_accuracy = check_progress(sess, accuracy, batch_xs, batch_ys, i)\n",
      "        train_accuracies.append(train_accuracy)\n",
      "        validation_accuracies.append(validation_accuracy)\n",
      "        x_range.append(i)\n",
      "\n",
      "        saver.save(sess, 'model', global_step=i+1)\n",
      "\n",
      "        # increase display_step\n",
      "        if i % (display_step*10) == 0 and i:\n",
      "            display_step *= 2"
     ],
     "language": "python",
     "metadata": {},
     "outputs": [
      {
       "output_type": "stream",
       "stream": "stdout",
       "text": [
        "Restored session from: ./model-1900\n",
        "2016-12-04 11:59:54.948778: trn / val => 1.0000 / 0.9925 for step 2000"
       ]
      },
      {
       "output_type": "stream",
       "stream": "stdout",
       "text": [
        "\n"
       ]
      }
     ],
     "prompt_number": 61
    },
    {
     "cell_type": "code",
     "collapsed": false,
     "input": [
      "#ckpt = tf.train.get_checkpoint_state('.')\n",
      "#ckpt.model_checkpoint_path\n",
      "#saver.restore(sess, './model-3800')"
     ],
     "language": "python",
     "metadata": {},
     "outputs": []
    },
    {
     "cell_type": "code",
     "collapsed": false,
     "input": [
      "# check final accuracy on validation set.\n",
      "# Since we may use validation data set in training data set the accuracy is around 0.99\n",
      "\n",
      "if(VALIDATION_SIZE):\n",
      "    validation_accuracy = accuracy.eval(session=sess, feed_dict={x: validation_images,\n",
      "                                                                 y_: validation_labels,\n",
      "                                                                 keep_prob: 1.0})\n",
      "    print('validation_accuracy => %.4f' % validation_accuracy)\n",
      "    plt.plot(x_range, train_accuracies,'-b', label='Training')\n",
      "    plt.plot(x_range, validation_accuracies,'-g', label='Validation')\n",
      "    plt.legend(loc='lower right', frameon=False)\n",
      "    plt.ylim(ymax = 1.1, ymin = 0.9)\n",
      "    plt.ylabel('accuracy')\n",
      "    plt.xlabel('step')\n",
      "    plt.grid()\n",
      "    plt.show()"
     ],
     "language": "python",
     "metadata": {},
     "outputs": [
      {
       "output_type": "stream",
       "stream": "stdout",
       "text": [
        "validation_accuracy => 0.9925\n"
       ]
      },
      {
       "metadata": {},
       "output_type": "display_data",
       "png": "[encoded data removed]",
       "text": [
        "<matplotlib.figure.Figure at 0x1168ef4d0>"
       ]
      }
     ],
     "prompt_number": 62
    },
    {
     "cell_type": "code",
     "collapsed": false,
     "input": [
      "# read test data from CSV file \n",
      "test_images = pd.read_csv('../input/test.csv').values\n",
      "test_images = test_images.astype(np.float)\n",
      "\n",
      "# convert from [0:255] => [0.0:1.0]\n",
      "test_images = np.multiply(test_images, 1.0 / 255.0)\n",
      "print('test_images({0[0]},{0[1]})'.format(test_images.shape))\n",
      "\n",
      "# predict test set\n",
      "#predicted_lables = predict.eval(feed_dict={x: test_images, keep_prob: 1.0})\n",
      "\n",
      "# using batches is more resource efficient\n",
      "predicted_lables = np.zeros(test_images.shape[0])\n",
      "for i in range(0,test_images.shape[0]//BATCH_SIZE):\n",
      "    predicted_lables[i*BATCH_SIZE : (i+1)*BATCH_SIZE] = predict.eval(\n",
      "        session=sess, feed_dict={x: test_images[i*BATCH_SIZE : (i+1)*BATCH_SIZE],\n",
      "                                 keep_prob: 1.0})\n",
      "\n",
      "print('predicted_lables({0})'.format(len(predicted_lables)))\n",
      "\n",
      "# output test image and prediction\n",
      "display(test_images[IMAGE_TO_DISPLAY])\n",
      "print ('predicted_lables[{0}] => {1}'.format(IMAGE_TO_DISPLAY,predicted_lables[IMAGE_TO_DISPLAY]))\n",
      "\n",
      "# save results\n",
      "file_name = 'submission_softmax_%s.csv' % global_step.eval(sess)\n",
      "np.savetxt(file_name, \n",
      "           np.c_[range(1,len(test_images)+1),predicted_lables], \n",
      "           delimiter=',', \n",
      "           header = 'ImageId,Label', \n",
      "           comments = '', \n",
      "           fmt='%d')\n",
      "print('saved: %s' % file_name)"
     ],
     "language": "python",
     "metadata": {},
     "outputs": [
      {
       "output_type": "stream",
       "stream": "stdout",
       "text": [
        "test_images(28000,784)\n",
        "predicted_lables(28000)"
       ]
      },
      {
       "output_type": "stream",
       "stream": "stdout",
       "text": [
        "\n",
        "predicted_lables[25] => 4.0\n",
        "saved: submission_softmax_2000.csv"
       ]
      },
      {
       "output_type": "stream",
       "stream": "stdout",
       "text": [
        "\n"
       ]
      },
      {
       "metadata": {},
       "output_type": "display_data",
       "png": "[encoded data removed]",
       "text": [
        "<matplotlib.figure.Figure at 0x116911690>"
       ]
      }
     ],
     "prompt_number": 63
    },
    {
     "cell_type": "code",
     "collapsed": false,
     "input": [
      "layer1_grid = layer1.eval(session=sess, feed_dict={x: test_images[IMAGE_TO_DISPLAY:IMAGE_TO_DISPLAY+1], \n",
      "                                                   keep_prob: 1.0})\n",
      "plt.axis('off')\n",
      "plt.imshow(layer1_grid[0], cmap=cm.seismic )"
     ],
     "language": "python",
     "metadata": {},
     "outputs": [
      {
       "metadata": {},
       "output_type": "pyout",
       "prompt_number": 64,
       "text": [
        "<matplotlib.image.AxesImage at 0x11613ad10>"
       ]
      },
      {
       "metadata": {},
       "output_type": "display_data",
       "png": "[encoded data removed]",
       "text": [
        "<matplotlib.figure.Figure at 0x11416c710>"
       ]
      }
     ],
     "prompt_number": 64
    },
    {
     "cell_type": "code",
     "collapsed": false,
     "input": [
      "sess.close()"
     ],
     "language": "python",
     "metadata": {},
     "outputs": [],
     "prompt_number": 65
    },
    {
     "cell_type": "code",
     "collapsed": false,
     "input": [
      "!ls -ahl"
     ],
     "language": "python",
     "metadata": {},
     "outputs": [
      {
       "output_type": "stream",
       "stream": "stdout",
       "text": [
        "total 1546936\r\n",
        "drwxr-xr-x  47 aawad  staff   1.6K Dec  4 12:01 \u001b[36m.\u001b[m\u001b[m\r\n",
        "drwxr-xr-x  11 aawad  staff   374B Dec  3 22:59 \u001b[36m..\u001b[m\u001b[m\r\n",
        "drwxr-xr-x   3 root   staff   102B Dec  4 10:21 \u001b[36m.ipynb_checkpoints\u001b[m\u001b[m\r\n",
        "-rw-r--r--   1 root   staff    77B Dec  4 11:59 checkpoint\r\n",
        "-rw-r--r--   1 root   staff    37M Dec  4 11:27 model-100\r\n",
        "-rw-r--r--   1 root   staff    73K Dec  4 11:27 model-100.meta\r\n",
        "-rw-r--r--   1 root   staff    37M Dec  4 11:49 model-1000\r\n",
        "-rw-r--r--   1 root   staff   257K Dec  4 11:49 model-1000.meta\r\n",
        "-rw-r--r--   1 root   staff    37M Dec  4 11:51 model-1100\r\n",
        "-rw-r--r--   1 root   staff   276K Dec  4 11:51 model-1100.meta\r\n",
        "-rw-r--r--   1 root   staff    37M Dec  4 11:52 model-1200\r\n",
        "-rw-r--r--   1 root   staff   295K Dec  4 11:52 model-1200.meta\r\n",
        "-rw-r--r--   1 root   staff    37M Dec  4 11:53 model-1300\r\n",
        "-rw-r--r--   1 root   staff   313K Dec  4 11:53 model-1300.meta\r\n",
        "-rw-r--r--   1 root   staff    37M Dec  4 11:53 model-1400\r\n",
        "-rw-r--r--   1 root   staff   332K Dec  4 11:53 model-1400.meta\r\n",
        "-rw-r--r--   1 root   staff    37M Dec  4 11:54 model-1500\r\n",
        "-rw-r--r--   1 root   staff   351K Dec  4 11:54 model-1500.meta\r\n",
        "-rw-r--r--   1 root   staff    37M Dec  4 11:56 model-1600\r\n",
        "-rw-r--r--   1 root   staff   370K Dec  4 11:56 model-1600.meta\r\n",
        "-rw-r--r--   1 root   staff    37M Dec  4 11:57 model-1700\r\n",
        "-rw-r--r--   1 root   staff   388K Dec  4 11:57 model-1700.meta\r\n",
        "-rw-r--r--   1 root   staff    37M Dec  4 11:57 model-1800\r\n",
        "-rw-r--r--   1 root   staff   407K Dec  4 11:57 model-1800.meta\r\n",
        "-rw-r--r--   1 root   staff    37M Dec  4 11:58 model-1900\r\n",
        "-rw-r--r--   1 root   staff   426K Dec  4 11:58 model-1900.meta\r\n",
        "-rw-r--r--   1 root   staff    37M Dec  4 11:43 model-200\r\n",
        "-rw-r--r--   1 root   staff    91K Dec  4 11:43 model-200.meta\r\n",
        "-rw-r--r--   1 root   staff    37M Dec  4 11:59 model-2000\r\n",
        "-rw-r--r--   1 root   staff   444K Dec  4 11:59 model-2000.meta\r\n",
        "-rw-r--r--   1 root   staff    37M Dec  4 11:44 model-300\r\n",
        "-rw-r--r--   1 root   staff   110K Dec  4 11:44 model-300.meta\r\n",
        "-rw-r--r--   1 root   staff    37M Dec  4 11:45 model-400\r\n",
        "-rw-r--r--   1 root   staff   128K Dec  4 11:45 model-400.meta\r\n",
        "-rw-r--r--   1 root   staff    37M Dec  4 11:47 model-500\r\n",
        "-rw-r--r--   1 root   staff   165K Dec  4 11:47 model-500.meta\r\n",
        "-rw-r--r--   1 root   staff    37M Dec  4 11:47 model-600\r\n",
        "-rw-r--r--   1 root   staff   183K Dec  4 11:47 model-600.meta\r\n",
        "-rw-r--r--   1 root   staff    37M Dec  4 11:48 model-700\r\n",
        "-rw-r--r--   1 root   staff   202K Dec  4 11:48 model-700.meta\r\n",
        "-rw-r--r--   1 root   staff    37M Dec  4 11:48 model-800\r\n",
        "-rw-r--r--   1 root   staff   220K Dec  4 11:48 model-800.meta\r\n",
        "-rw-r--r--   1 root   staff    37M Dec  4 11:49 model-900\r\n",
        "-rw-r--r--   1 root   staff   239K Dec  4 11:49 model-900.meta\r\n",
        "-rw-------   1 root   staff   125K Dec  4 12:00 nn_mnist.ipynb\r\n",
        "-rw-r--r--   1 root   staff   208K Dec  4 11:29 submission_softmax_100.csv\r\n",
        "-rw-r--r--   1 root   staff   208K Dec  4 12:01 submission_softmax_2000.csv\r\n"
       ]
      }
     ],
     "prompt_number": 66
    },
    {
     "cell_type": "code",
     "collapsed": false,
     "input": [],
     "language": "python",
     "metadata": {},
     "outputs": []
    }
   ],
   "metadata": {}
  }
 ]
}